{
  "nbformat": 4,
  "nbformat_minor": 0,
  "metadata": {
    "colab": {
      "name": "pySpark_Bundesliga_2000-2010_analysis.ipynb",
      "provenance": [],
      "collapsed_sections": [],
      "toc_visible": true,
      "authorship_tag": "ABX9TyNSmrfvWAYDj6E7Q7rq51gj",
      "include_colab_link": true
    },
    "kernelspec": {
      "name": "python3",
      "display_name": "Python 3"
    },
    "language_info": {
      "name": "python"
    }
  },
  "cells": [
    {
      "cell_type": "markdown",
      "metadata": {
        "id": "view-in-github",
        "colab_type": "text"
      },
      "source": [
        "<a href=\"https://colab.research.google.com/github/KamilBartosik/pySpark_Bundesliga_2000-2010_analysis/blob/main/pySpark_Bundesliga_2000_2010_analysis.ipynb\" target=\"_parent\"><img src=\"https://colab.research.google.com/assets/colab-badge.svg\" alt=\"Open In Colab\"/></a>"
      ]
    },
    {
      "cell_type": "code",
      "execution_count": 75,
      "metadata": {
        "colab": {
          "base_uri": "https://localhost:8080/"
        },
        "id": "Xq5U4LHvdR5t",
        "outputId": "30db5039-39f9-4091-ffc4-6a77fb9f941d"
      },
      "outputs": [
        {
          "output_type": "stream",
          "name": "stdout",
          "text": [
            "Drive already mounted at /content/gdrive; to attempt to forcibly remount, call drive.mount(\"/content/gdrive\", force_remount=True).\n"
          ]
        }
      ],
      "source": [
        "from google.colab import drive\n",
        "drive.mount('/content/gdrive')"
      ]
    },
    {
      "cell_type": "code",
      "source": [
        "#import findspark\n",
        "#from pyspark import SparkContext\n",
        "from pyspark.sql import SparkSession, Window\n",
        "from pyspark.sql.functions import *\n",
        "#from pyspark.sql.types import *\n",
        "import matplotlib.pyplot as plt"
      ],
      "metadata": {
        "id": "kdcHec0Jevxu"
      },
      "execution_count": 76,
      "outputs": []
    },
    {
      "cell_type": "code",
      "source": [
        "spark = SparkSession \\\n",
        "        .builder \\\n",
        "        .appName(\"firstSpark\") \\\n",
        "        .getOrCreate()"
      ],
      "metadata": {
        "id": "XjBx81Gge9Of"
      },
      "execution_count": 77,
      "outputs": []
    },
    {
      "cell_type": "markdown",
      "source": [
        "1. Who are the winners of the D1 division in the Germany Football Association \n",
        "    (Bundesliga) in the 2000-2010?"
      ],
      "metadata": {
        "id": "pwBLQr7_fpak"
      }
    },
    {
      "cell_type": "code",
      "source": [
        "DATASET = \"/content/gdrive/MyDrive/MachineLearning/Datasets/Bundesliga_2000-2010\"\n",
        "df_matches = spark.read.csv(DATASET, header=True)"
      ],
      "metadata": {
        "id": "pxfBnySQfsA2"
      },
      "execution_count": 78,
      "outputs": []
    },
    {
      "cell_type": "code",
      "source": [
        "df_matches.show(5)"
      ],
      "metadata": {
        "colab": {
          "base_uri": "https://localhost:8080/"
        },
        "id": "a_9YdsBKgU45",
        "outputId": "58e3ee61-f7a6-4148-f50f-c104448613b8"
      },
      "execution_count": 79,
      "outputs": [
        {
          "output_type": "stream",
          "name": "stdout",
          "text": [
            "+--------+---+------+----------+-------------+--------------+----+----+---+\n",
            "|Match_ID|Div|Season|      Date|     HomeTeam|      AwayTeam|FTHG|FTAG|FTR|\n",
            "+--------+---+------+----------+-------------+--------------+----+----+---+\n",
            "|       1| D2|  2009|2010-04-04|   Oberhausen|Kaiserslautern|   2|   1|  H|\n",
            "|       2| D2|  2009|2009-11-01|  Munich 1860|Kaiserslautern|   0|   1|  A|\n",
            "|       3| D2|  2009|2009-10-04|Frankfurt FSV|Kaiserslautern|   1|   1|  D|\n",
            "|       4| D2|  2009|2010-02-21|Frankfurt FSV|     Karlsruhe|   2|   1|  H|\n",
            "|       5| D2|  2009|2009-12-06|        Ahlen|     Karlsruhe|   1|   3|  A|\n",
            "+--------+---+------+----------+-------------+--------------+----+----+---+\n",
            "only showing top 5 rows\n",
            "\n"
          ]
        }
      ]
    },
    {
      "cell_type": "code",
      "source": [
        "old_cols = df_matches.columns[-3:]\n",
        "new_cols = [\"HomeTeamGoals\", \"AwayTeamGoals\", \"FinalResult\"]\n",
        "old_new_cols = [*zip(old_cols, new_cols)]\n",
        "for old_col, new_col in old_new_cols:\n",
        "    df_matches = df_matches.withColumnRenamed(old_col, new_col)\n",
        "\n",
        "df_matches.show(5)"
      ],
      "metadata": {
        "colab": {
          "base_uri": "https://localhost:8080/"
        },
        "id": "EIn_rIXBgH12",
        "outputId": "6fdbbf67-c3a8-4908-d895-a0259e2c819f"
      },
      "execution_count": 80,
      "outputs": [
        {
          "output_type": "stream",
          "name": "stdout",
          "text": [
            "+--------+---+------+----------+-------------+--------------+-------------+-------------+-----------+\n",
            "|Match_ID|Div|Season|      Date|     HomeTeam|      AwayTeam|HomeTeamGoals|AwayTeamGoals|FinalResult|\n",
            "+--------+---+------+----------+-------------+--------------+-------------+-------------+-----------+\n",
            "|       1| D2|  2009|2010-04-04|   Oberhausen|Kaiserslautern|            2|            1|          H|\n",
            "|       2| D2|  2009|2009-11-01|  Munich 1860|Kaiserslautern|            0|            1|          A|\n",
            "|       3| D2|  2009|2009-10-04|Frankfurt FSV|Kaiserslautern|            1|            1|          D|\n",
            "|       4| D2|  2009|2010-02-21|Frankfurt FSV|     Karlsruhe|            2|            1|          H|\n",
            "|       5| D2|  2009|2009-12-06|        Ahlen|     Karlsruhe|            1|            3|          A|\n",
            "+--------+---+------+----------+-------------+--------------+-------------+-------------+-----------+\n",
            "only showing top 5 rows\n",
            "\n"
          ]
        }
      ]
    },
    {
      "cell_type": "code",
      "source": [
        "df_matches = df_matches \\\n",
        "            .withColumn(\"HomeTeamWin\", when(col(\"FinalResult\")==\"H\", 1).otherwise(0)) \\\n",
        "            .withColumn(\"AwayTeamWin\", when(col(\"FinalResult\")==\"A\", 1).otherwise(0)) \\\n",
        "            .withColumn(\"GameTie\", when(col(\"FinalResult\")==\"D\", 1).otherwise(0))\n",
        "            \n",
        "df_matches.show(5)"
      ],
      "metadata": {
        "colab": {
          "base_uri": "https://localhost:8080/"
        },
        "id": "3jSlGLoEgPxm",
        "outputId": "ddbfb9b9-d855-4303-f0e5-916b7683c31f"
      },
      "execution_count": 81,
      "outputs": [
        {
          "output_type": "stream",
          "name": "stdout",
          "text": [
            "+--------+---+------+----------+-------------+--------------+-------------+-------------+-----------+-----------+-----------+-------+\n",
            "|Match_ID|Div|Season|      Date|     HomeTeam|      AwayTeam|HomeTeamGoals|AwayTeamGoals|FinalResult|HomeTeamWin|AwayTeamWin|GameTie|\n",
            "+--------+---+------+----------+-------------+--------------+-------------+-------------+-----------+-----------+-----------+-------+\n",
            "|       1| D2|  2009|2010-04-04|   Oberhausen|Kaiserslautern|            2|            1|          H|          1|          0|      0|\n",
            "|       2| D2|  2009|2009-11-01|  Munich 1860|Kaiserslautern|            0|            1|          A|          0|          1|      0|\n",
            "|       3| D2|  2009|2009-10-04|Frankfurt FSV|Kaiserslautern|            1|            1|          D|          0|          0|      1|\n",
            "|       4| D2|  2009|2010-02-21|Frankfurt FSV|     Karlsruhe|            2|            1|          H|          1|          0|      0|\n",
            "|       5| D2|  2009|2009-12-06|        Ahlen|     Karlsruhe|            1|            3|          A|          0|          1|      0|\n",
            "+--------+---+------+----------+-------------+--------------+-------------+-------------+-----------+-----------+-----------+-------+\n",
            "only showing top 5 rows\n",
            "\n"
          ]
        }
      ]
    },
    {
      "cell_type": "code",
      "source": [
        "bundesliga = df_matches \\\n",
        "            .filter((col('Div')==\"D1\") &\n",
        "                    (col('Season')>=2000) &\n",
        "                    (col('Season')<=2010))"
      ],
      "metadata": {
        "id": "pohfxcqeiUH2"
      },
      "execution_count": 82,
      "outputs": []
    },
    {
      "cell_type": "code",
      "source": [
        "home = bundesliga.groupBy('Season', 'HomeTeam') \\\n",
        "        .agg(sum(\"HomeTeamWin\").alias(\"TotalHomeWin\"),\n",
        "             sum(\"AwayTeamWin\").alias(\"TotalHomeLoss\"),\n",
        "             sum(\"GameTie\").alias(\"TotalHomeTie\"),\n",
        "             sum(\"HomeTeamGoals\").alias(\"HomeScoredGoals\"),\n",
        "             sum(\"AwayTeamGoals\").alias(\"HomeAgainstGoals\")) \\\n",
        "        .withColumnRenamed('HomeTeam', 'Team')\n",
        "\n",
        "home.orderBy('Season').show(5)"
      ],
      "metadata": {
        "colab": {
          "base_uri": "https://localhost:8080/"
        },
        "id": "XVFRMne4icn2",
        "outputId": "fb1b872a-0b69-4f23-d4d9-364f7a92f62e"
      },
      "execution_count": 83,
      "outputs": [
        {
          "output_type": "stream",
          "name": "stdout",
          "text": [
            "+------+-------------+------------+-------------+------------+---------------+----------------+\n",
            "|Season|         Team|TotalHomeWin|TotalHomeLoss|TotalHomeTie|HomeScoredGoals|HomeAgainstGoals|\n",
            "+------+-------------+------------+-------------+------------+---------------+----------------+\n",
            "|  2000|  Munich 1860|           8|            6|           3|           23.0|            25.0|\n",
            "|  2000|Ein Frankfurt|           8|            6|           3|           26.0|            22.0|\n",
            "|  2000|      Hamburg|           8|            3|           6|           33.0|            21.0|\n",
            "|  2000|Hansa Rostock|           8|            4|           5|           22.0|            20.0|\n",
            "|  2000|       Bochum|           5|            8|           4|           20.0|            28.0|\n",
            "+------+-------------+------------+-------------+------------+---------------+----------------+\n",
            "only showing top 5 rows\n",
            "\n"
          ]
        }
      ]
    },
    {
      "cell_type": "code",
      "source": [
        "away = bundesliga.groupBy('Season', 'AwayTeam') \\\n",
        "        .agg(sum(\"AwayTeamWin\").alias(\"TotalAwayWin\"),\n",
        "             sum(\"HomeTeamWin\").alias(\"TotalAwayLoss\"),\n",
        "             sum(\"GameTie\").alias(\"TotalAwayTie\"),\n",
        "             sum(\"AwayTeamGoals\").alias(\"AwayScoredGoals\"),\n",
        "             sum(\"HomeTeamGoals\").alias(\"AwayAgainstGoals\")) \\\n",
        "        .withColumnRenamed('AwayTeam', 'Team')\n",
        "        \n",
        "away.orderBy('Season').show(5)"
      ],
      "metadata": {
        "colab": {
          "base_uri": "https://localhost:8080/"
        },
        "id": "GfyrZ3W-ijBN",
        "outputId": "038dc683-1b10-494b-daa0-858cae3d01ae"
      },
      "execution_count": 84,
      "outputs": [
        {
          "output_type": "stream",
          "name": "stdout",
          "text": [
            "+------+-------------+------------+-------------+------------+---------------+----------------+\n",
            "|Season|         Team|TotalAwayWin|TotalAwayLoss|TotalAwayTie|AwayScoredGoals|AwayAgainstGoals|\n",
            "+------+-------------+------------+-------------+------------+---------------+----------------+\n",
            "|  2000|  Munich 1860|           4|            8|           5|           20.0|            30.0|\n",
            "|  2000|Ein Frankfurt|           2|           13|           2|           15.0|            46.0|\n",
            "|  2000|      Hamburg|           2|           10|           5|           25.0|            37.0|\n",
            "|  2000|Hansa Rostock|           4|           11|           2|           12.0|            27.0|\n",
            "|  2000|       Bochum|           2|           13|           2|           10.0|            39.0|\n",
            "+------+-------------+------------+-------------+------------+---------------+----------------+\n",
            "only showing top 5 rows\n",
            "\n"
          ]
        }
      ]
    },
    {
      "cell_type": "code",
      "source": [
        "window = ['Season']\n",
        "window = Window.partitionBy(window).orderBy(col('Points').desc(), col('GoalDiff').desc())\n",
        "table = home.join(away, ['Season', 'Team'], 'inner') \\\n",
        "    .withColumn('Win', col('TotalHomeWin') + col('TotalAwayWin')) \\\n",
        "    .withColumn('Tie', col('TotalHomeTie') + col('TotalAwayTie')) \\\n",
        "    .withColumn('Loss', col('TotalHomeLoss') + col('TotalAwayLoss')) \\\n",
        "    .withColumn('Points', col('Win')*3 + col('Tie')*1) \\\n",
        "    .withColumn('GoalsScored', col('HomeScoredGoals') + col('AwayScoredGoals')) \\\n",
        "    .withColumn('GoalsAgainst', col('HomeAgainstGoals') + col('AwayAgainstGoals')) \\\n",
        "    .withColumn('GoalDiff', col('GoalsScored') - col('GoalsAgainst')) \\\n",
        "    .drop('TotalHomeWin', 'TotalAwayWin', 'TotalHomeLoss', 'TotalAwayLoss') \\\n",
        "    .drop('TotalHomeTie', 'TotalAwayTie', 'HomeScoredGoals', 'AwayScoredGoals') \\\n",
        "    .drop('HomeAgainstGoals', 'AwayAgainstGoals') \\\n",
        "    .withColumn('TeamPosition', rank().over(window))\n",
        "    \n",
        "bundesliga_df = table.filter(col('TeamPosition') == 1).orderBy('Season')\n",
        "bundesliga_df.toPandas()"
      ],
      "metadata": {
        "colab": {
          "base_uri": "https://localhost:8080/",
          "height": 394
        },
        "id": "U2ElUe6iivJl",
        "outputId": "354d50ce-a2b9-4a23-813a-3b5c456d1b66"
      },
      "execution_count": 85,
      "outputs": [
        {
          "output_type": "execute_result",
          "data": {
            "text/plain": [
              "   Season           Team  Win  Tie  Loss  Points  GoalsScored  GoalsAgainst  \\\n",
              "0    2000  Bayern Munich   19    6     9      63         62.0          37.0   \n",
              "1    2001       Dortmund   21    7     6      70         62.0          33.0   \n",
              "2    2002  Bayern Munich   23    6     5      75         70.0          25.0   \n",
              "3    2003  Werder Bremen   22    8     4      74         79.0          38.0   \n",
              "4    2004  Bayern Munich   24    5     5      77         75.0          33.0   \n",
              "5    2005  Bayern Munich   22    9     3      75         67.0          32.0   \n",
              "6    2006      Stuttgart   21    7     6      70         61.0          37.0   \n",
              "7    2007  Bayern Munich   22   10     2      76         68.0          21.0   \n",
              "8    2008      Wolfsburg   21    6     7      69         80.0          41.0   \n",
              "9    2009  Bayern Munich   20   10     4      70         72.0          31.0   \n",
              "10   2010       Dortmund   23    6     5      75         67.0          22.0   \n",
              "\n",
              "    GoalDiff  TeamPosition  \n",
              "0       25.0             1  \n",
              "1       29.0             1  \n",
              "2       45.0             1  \n",
              "3       41.0             1  \n",
              "4       42.0             1  \n",
              "5       35.0             1  \n",
              "6       24.0             1  \n",
              "7       47.0             1  \n",
              "8       39.0             1  \n",
              "9       41.0             1  \n",
              "10      45.0             1  "
            ],
            "text/html": [
              "\n",
              "  <div id=\"df-3e95e5f0-cef3-48ce-9b7c-e9e3e2a91d7f\">\n",
              "    <div class=\"colab-df-container\">\n",
              "      <div>\n",
              "<style scoped>\n",
              "    .dataframe tbody tr th:only-of-type {\n",
              "        vertical-align: middle;\n",
              "    }\n",
              "\n",
              "    .dataframe tbody tr th {\n",
              "        vertical-align: top;\n",
              "    }\n",
              "\n",
              "    .dataframe thead th {\n",
              "        text-align: right;\n",
              "    }\n",
              "</style>\n",
              "<table border=\"1\" class=\"dataframe\">\n",
              "  <thead>\n",
              "    <tr style=\"text-align: right;\">\n",
              "      <th></th>\n",
              "      <th>Season</th>\n",
              "      <th>Team</th>\n",
              "      <th>Win</th>\n",
              "      <th>Tie</th>\n",
              "      <th>Loss</th>\n",
              "      <th>Points</th>\n",
              "      <th>GoalsScored</th>\n",
              "      <th>GoalsAgainst</th>\n",
              "      <th>GoalDiff</th>\n",
              "      <th>TeamPosition</th>\n",
              "    </tr>\n",
              "  </thead>\n",
              "  <tbody>\n",
              "    <tr>\n",
              "      <th>0</th>\n",
              "      <td>2000</td>\n",
              "      <td>Bayern Munich</td>\n",
              "      <td>19</td>\n",
              "      <td>6</td>\n",
              "      <td>9</td>\n",
              "      <td>63</td>\n",
              "      <td>62.0</td>\n",
              "      <td>37.0</td>\n",
              "      <td>25.0</td>\n",
              "      <td>1</td>\n",
              "    </tr>\n",
              "    <tr>\n",
              "      <th>1</th>\n",
              "      <td>2001</td>\n",
              "      <td>Dortmund</td>\n",
              "      <td>21</td>\n",
              "      <td>7</td>\n",
              "      <td>6</td>\n",
              "      <td>70</td>\n",
              "      <td>62.0</td>\n",
              "      <td>33.0</td>\n",
              "      <td>29.0</td>\n",
              "      <td>1</td>\n",
              "    </tr>\n",
              "    <tr>\n",
              "      <th>2</th>\n",
              "      <td>2002</td>\n",
              "      <td>Bayern Munich</td>\n",
              "      <td>23</td>\n",
              "      <td>6</td>\n",
              "      <td>5</td>\n",
              "      <td>75</td>\n",
              "      <td>70.0</td>\n",
              "      <td>25.0</td>\n",
              "      <td>45.0</td>\n",
              "      <td>1</td>\n",
              "    </tr>\n",
              "    <tr>\n",
              "      <th>3</th>\n",
              "      <td>2003</td>\n",
              "      <td>Werder Bremen</td>\n",
              "      <td>22</td>\n",
              "      <td>8</td>\n",
              "      <td>4</td>\n",
              "      <td>74</td>\n",
              "      <td>79.0</td>\n",
              "      <td>38.0</td>\n",
              "      <td>41.0</td>\n",
              "      <td>1</td>\n",
              "    </tr>\n",
              "    <tr>\n",
              "      <th>4</th>\n",
              "      <td>2004</td>\n",
              "      <td>Bayern Munich</td>\n",
              "      <td>24</td>\n",
              "      <td>5</td>\n",
              "      <td>5</td>\n",
              "      <td>77</td>\n",
              "      <td>75.0</td>\n",
              "      <td>33.0</td>\n",
              "      <td>42.0</td>\n",
              "      <td>1</td>\n",
              "    </tr>\n",
              "    <tr>\n",
              "      <th>5</th>\n",
              "      <td>2005</td>\n",
              "      <td>Bayern Munich</td>\n",
              "      <td>22</td>\n",
              "      <td>9</td>\n",
              "      <td>3</td>\n",
              "      <td>75</td>\n",
              "      <td>67.0</td>\n",
              "      <td>32.0</td>\n",
              "      <td>35.0</td>\n",
              "      <td>1</td>\n",
              "    </tr>\n",
              "    <tr>\n",
              "      <th>6</th>\n",
              "      <td>2006</td>\n",
              "      <td>Stuttgart</td>\n",
              "      <td>21</td>\n",
              "      <td>7</td>\n",
              "      <td>6</td>\n",
              "      <td>70</td>\n",
              "      <td>61.0</td>\n",
              "      <td>37.0</td>\n",
              "      <td>24.0</td>\n",
              "      <td>1</td>\n",
              "    </tr>\n",
              "    <tr>\n",
              "      <th>7</th>\n",
              "      <td>2007</td>\n",
              "      <td>Bayern Munich</td>\n",
              "      <td>22</td>\n",
              "      <td>10</td>\n",
              "      <td>2</td>\n",
              "      <td>76</td>\n",
              "      <td>68.0</td>\n",
              "      <td>21.0</td>\n",
              "      <td>47.0</td>\n",
              "      <td>1</td>\n",
              "    </tr>\n",
              "    <tr>\n",
              "      <th>8</th>\n",
              "      <td>2008</td>\n",
              "      <td>Wolfsburg</td>\n",
              "      <td>21</td>\n",
              "      <td>6</td>\n",
              "      <td>7</td>\n",
              "      <td>69</td>\n",
              "      <td>80.0</td>\n",
              "      <td>41.0</td>\n",
              "      <td>39.0</td>\n",
              "      <td>1</td>\n",
              "    </tr>\n",
              "    <tr>\n",
              "      <th>9</th>\n",
              "      <td>2009</td>\n",
              "      <td>Bayern Munich</td>\n",
              "      <td>20</td>\n",
              "      <td>10</td>\n",
              "      <td>4</td>\n",
              "      <td>70</td>\n",
              "      <td>72.0</td>\n",
              "      <td>31.0</td>\n",
              "      <td>41.0</td>\n",
              "      <td>1</td>\n",
              "    </tr>\n",
              "    <tr>\n",
              "      <th>10</th>\n",
              "      <td>2010</td>\n",
              "      <td>Dortmund</td>\n",
              "      <td>23</td>\n",
              "      <td>6</td>\n",
              "      <td>5</td>\n",
              "      <td>75</td>\n",
              "      <td>67.0</td>\n",
              "      <td>22.0</td>\n",
              "      <td>45.0</td>\n",
              "      <td>1</td>\n",
              "    </tr>\n",
              "  </tbody>\n",
              "</table>\n",
              "</div>\n",
              "      <button class=\"colab-df-convert\" onclick=\"convertToInteractive('df-3e95e5f0-cef3-48ce-9b7c-e9e3e2a91d7f')\"\n",
              "              title=\"Convert this dataframe to an interactive table.\"\n",
              "              style=\"display:none;\">\n",
              "        \n",
              "  <svg xmlns=\"http://www.w3.org/2000/svg\" height=\"24px\"viewBox=\"0 0 24 24\"\n",
              "       width=\"24px\">\n",
              "    <path d=\"M0 0h24v24H0V0z\" fill=\"none\"/>\n",
              "    <path d=\"M18.56 5.44l.94 2.06.94-2.06 2.06-.94-2.06-.94-.94-2.06-.94 2.06-2.06.94zm-11 1L8.5 8.5l.94-2.06 2.06-.94-2.06-.94L8.5 2.5l-.94 2.06-2.06.94zm10 10l.94 2.06.94-2.06 2.06-.94-2.06-.94-.94-2.06-.94 2.06-2.06.94z\"/><path d=\"M17.41 7.96l-1.37-1.37c-.4-.4-.92-.59-1.43-.59-.52 0-1.04.2-1.43.59L10.3 9.45l-7.72 7.72c-.78.78-.78 2.05 0 2.83L4 21.41c.39.39.9.59 1.41.59.51 0 1.02-.2 1.41-.59l7.78-7.78 2.81-2.81c.8-.78.8-2.07 0-2.86zM5.41 20L4 18.59l7.72-7.72 1.47 1.35L5.41 20z\"/>\n",
              "  </svg>\n",
              "      </button>\n",
              "      \n",
              "  <style>\n",
              "    .colab-df-container {\n",
              "      display:flex;\n",
              "      flex-wrap:wrap;\n",
              "      gap: 12px;\n",
              "    }\n",
              "\n",
              "    .colab-df-convert {\n",
              "      background-color: #E8F0FE;\n",
              "      border: none;\n",
              "      border-radius: 50%;\n",
              "      cursor: pointer;\n",
              "      display: none;\n",
              "      fill: #1967D2;\n",
              "      height: 32px;\n",
              "      padding: 0 0 0 0;\n",
              "      width: 32px;\n",
              "    }\n",
              "\n",
              "    .colab-df-convert:hover {\n",
              "      background-color: #E2EBFA;\n",
              "      box-shadow: 0px 1px 2px rgba(60, 64, 67, 0.3), 0px 1px 3px 1px rgba(60, 64, 67, 0.15);\n",
              "      fill: #174EA6;\n",
              "    }\n",
              "\n",
              "    [theme=dark] .colab-df-convert {\n",
              "      background-color: #3B4455;\n",
              "      fill: #D2E3FC;\n",
              "    }\n",
              "\n",
              "    [theme=dark] .colab-df-convert:hover {\n",
              "      background-color: #434B5C;\n",
              "      box-shadow: 0px 1px 3px 1px rgba(0, 0, 0, 0.15);\n",
              "      filter: drop-shadow(0px 1px 2px rgba(0, 0, 0, 0.3));\n",
              "      fill: #FFFFFF;\n",
              "    }\n",
              "  </style>\n",
              "\n",
              "      <script>\n",
              "        const buttonEl =\n",
              "          document.querySelector('#df-3e95e5f0-cef3-48ce-9b7c-e9e3e2a91d7f button.colab-df-convert');\n",
              "        buttonEl.style.display =\n",
              "          google.colab.kernel.accessAllowed ? 'block' : 'none';\n",
              "\n",
              "        async function convertToInteractive(key) {\n",
              "          const element = document.querySelector('#df-3e95e5f0-cef3-48ce-9b7c-e9e3e2a91d7f');\n",
              "          const dataTable =\n",
              "            await google.colab.kernel.invokeFunction('convertToInteractive',\n",
              "                                                     [key], {});\n",
              "          if (!dataTable) return;\n",
              "\n",
              "          const docLinkHtml = 'Like what you see? Visit the ' +\n",
              "            '<a target=\"_blank\" href=https://colab.research.google.com/notebooks/data_table.ipynb>data table notebook</a>'\n",
              "            + ' to learn more about interactive tables.';\n",
              "          element.innerHTML = '';\n",
              "          dataTable['output_type'] = 'display_data';\n",
              "          await google.colab.output.renderOutput(dataTable, element);\n",
              "          const docLink = document.createElement('div');\n",
              "          docLink.innerHTML = docLinkHtml;\n",
              "          element.appendChild(docLink);\n",
              "        }\n",
              "      </script>\n",
              "    </div>\n",
              "  </div>\n",
              "  "
            ]
          },
          "metadata": {},
          "execution_count": 85
        }
      ]
    },
    {
      "cell_type": "code",
      "source": [
        "bundesliga_df.groupby('Team').agg(count('Team').alias(\"TotalChampionships\"),\n",
        "                          avg('Points').alias('AvgPoints'),\n",
        "                          avg('GoalDiff').alias('AvgGoalDiff'),\n",
        "                          avg('Win').alias('AvgWin'),\n",
        "                          avg('Loss').alias('AvgLoss'),\n",
        "                          avg('Tie').alias('AvgTie')) \\\n",
        "    .orderBy(desc(\"TotalChampionships\")).toPandas().round(1)"
      ],
      "metadata": {
        "colab": {
          "base_uri": "https://localhost:8080/",
          "height": 206
        },
        "id": "clPHQ1ZAiy6N",
        "outputId": "acc4e67b-277d-478f-97f9-9c03716998f2"
      },
      "execution_count": 86,
      "outputs": [
        {
          "output_type": "execute_result",
          "data": {
            "text/plain": [
              "            Team  TotalChampionships  AvgPoints  AvgGoalDiff  AvgWin  AvgLoss  \\\n",
              "0  Bayern Munich                   6       72.7         39.2    21.7      4.7   \n",
              "1       Dortmund                   2       72.5         37.0    22.0      5.5   \n",
              "2  Werder Bremen                   1       74.0         41.0    22.0      4.0   \n",
              "3      Wolfsburg                   1       69.0         39.0    21.0      7.0   \n",
              "4      Stuttgart                   1       70.0         24.0    21.0      6.0   \n",
              "\n",
              "   AvgTie  \n",
              "0     7.7  \n",
              "1     6.5  \n",
              "2     8.0  \n",
              "3     6.0  \n",
              "4     7.0  "
            ],
            "text/html": [
              "\n",
              "  <div id=\"df-f6e4a389-f605-48eb-a583-baf36e006f36\">\n",
              "    <div class=\"colab-df-container\">\n",
              "      <div>\n",
              "<style scoped>\n",
              "    .dataframe tbody tr th:only-of-type {\n",
              "        vertical-align: middle;\n",
              "    }\n",
              "\n",
              "    .dataframe tbody tr th {\n",
              "        vertical-align: top;\n",
              "    }\n",
              "\n",
              "    .dataframe thead th {\n",
              "        text-align: right;\n",
              "    }\n",
              "</style>\n",
              "<table border=\"1\" class=\"dataframe\">\n",
              "  <thead>\n",
              "    <tr style=\"text-align: right;\">\n",
              "      <th></th>\n",
              "      <th>Team</th>\n",
              "      <th>TotalChampionships</th>\n",
              "      <th>AvgPoints</th>\n",
              "      <th>AvgGoalDiff</th>\n",
              "      <th>AvgWin</th>\n",
              "      <th>AvgLoss</th>\n",
              "      <th>AvgTie</th>\n",
              "    </tr>\n",
              "  </thead>\n",
              "  <tbody>\n",
              "    <tr>\n",
              "      <th>0</th>\n",
              "      <td>Bayern Munich</td>\n",
              "      <td>6</td>\n",
              "      <td>72.7</td>\n",
              "      <td>39.2</td>\n",
              "      <td>21.7</td>\n",
              "      <td>4.7</td>\n",
              "      <td>7.7</td>\n",
              "    </tr>\n",
              "    <tr>\n",
              "      <th>1</th>\n",
              "      <td>Dortmund</td>\n",
              "      <td>2</td>\n",
              "      <td>72.5</td>\n",
              "      <td>37.0</td>\n",
              "      <td>22.0</td>\n",
              "      <td>5.5</td>\n",
              "      <td>6.5</td>\n",
              "    </tr>\n",
              "    <tr>\n",
              "      <th>2</th>\n",
              "      <td>Werder Bremen</td>\n",
              "      <td>1</td>\n",
              "      <td>74.0</td>\n",
              "      <td>41.0</td>\n",
              "      <td>22.0</td>\n",
              "      <td>4.0</td>\n",
              "      <td>8.0</td>\n",
              "    </tr>\n",
              "    <tr>\n",
              "      <th>3</th>\n",
              "      <td>Wolfsburg</td>\n",
              "      <td>1</td>\n",
              "      <td>69.0</td>\n",
              "      <td>39.0</td>\n",
              "      <td>21.0</td>\n",
              "      <td>7.0</td>\n",
              "      <td>6.0</td>\n",
              "    </tr>\n",
              "    <tr>\n",
              "      <th>4</th>\n",
              "      <td>Stuttgart</td>\n",
              "      <td>1</td>\n",
              "      <td>70.0</td>\n",
              "      <td>24.0</td>\n",
              "      <td>21.0</td>\n",
              "      <td>6.0</td>\n",
              "      <td>7.0</td>\n",
              "    </tr>\n",
              "  </tbody>\n",
              "</table>\n",
              "</div>\n",
              "      <button class=\"colab-df-convert\" onclick=\"convertToInteractive('df-f6e4a389-f605-48eb-a583-baf36e006f36')\"\n",
              "              title=\"Convert this dataframe to an interactive table.\"\n",
              "              style=\"display:none;\">\n",
              "        \n",
              "  <svg xmlns=\"http://www.w3.org/2000/svg\" height=\"24px\"viewBox=\"0 0 24 24\"\n",
              "       width=\"24px\">\n",
              "    <path d=\"M0 0h24v24H0V0z\" fill=\"none\"/>\n",
              "    <path d=\"M18.56 5.44l.94 2.06.94-2.06 2.06-.94-2.06-.94-.94-2.06-.94 2.06-2.06.94zm-11 1L8.5 8.5l.94-2.06 2.06-.94-2.06-.94L8.5 2.5l-.94 2.06-2.06.94zm10 10l.94 2.06.94-2.06 2.06-.94-2.06-.94-.94-2.06-.94 2.06-2.06.94z\"/><path d=\"M17.41 7.96l-1.37-1.37c-.4-.4-.92-.59-1.43-.59-.52 0-1.04.2-1.43.59L10.3 9.45l-7.72 7.72c-.78.78-.78 2.05 0 2.83L4 21.41c.39.39.9.59 1.41.59.51 0 1.02-.2 1.41-.59l7.78-7.78 2.81-2.81c.8-.78.8-2.07 0-2.86zM5.41 20L4 18.59l7.72-7.72 1.47 1.35L5.41 20z\"/>\n",
              "  </svg>\n",
              "      </button>\n",
              "      \n",
              "  <style>\n",
              "    .colab-df-container {\n",
              "      display:flex;\n",
              "      flex-wrap:wrap;\n",
              "      gap: 12px;\n",
              "    }\n",
              "\n",
              "    .colab-df-convert {\n",
              "      background-color: #E8F0FE;\n",
              "      border: none;\n",
              "      border-radius: 50%;\n",
              "      cursor: pointer;\n",
              "      display: none;\n",
              "      fill: #1967D2;\n",
              "      height: 32px;\n",
              "      padding: 0 0 0 0;\n",
              "      width: 32px;\n",
              "    }\n",
              "\n",
              "    .colab-df-convert:hover {\n",
              "      background-color: #E2EBFA;\n",
              "      box-shadow: 0px 1px 2px rgba(60, 64, 67, 0.3), 0px 1px 3px 1px rgba(60, 64, 67, 0.15);\n",
              "      fill: #174EA6;\n",
              "    }\n",
              "\n",
              "    [theme=dark] .colab-df-convert {\n",
              "      background-color: #3B4455;\n",
              "      fill: #D2E3FC;\n",
              "    }\n",
              "\n",
              "    [theme=dark] .colab-df-convert:hover {\n",
              "      background-color: #434B5C;\n",
              "      box-shadow: 0px 1px 3px 1px rgba(0, 0, 0, 0.15);\n",
              "      filter: drop-shadow(0px 1px 2px rgba(0, 0, 0, 0.3));\n",
              "      fill: #FFFFFF;\n",
              "    }\n",
              "  </style>\n",
              "\n",
              "      <script>\n",
              "        const buttonEl =\n",
              "          document.querySelector('#df-f6e4a389-f605-48eb-a583-baf36e006f36 button.colab-df-convert');\n",
              "        buttonEl.style.display =\n",
              "          google.colab.kernel.accessAllowed ? 'block' : 'none';\n",
              "\n",
              "        async function convertToInteractive(key) {\n",
              "          const element = document.querySelector('#df-f6e4a389-f605-48eb-a583-baf36e006f36');\n",
              "          const dataTable =\n",
              "            await google.colab.kernel.invokeFunction('convertToInteractive',\n",
              "                                                     [key], {});\n",
              "          if (!dataTable) return;\n",
              "\n",
              "          const docLinkHtml = 'Like what you see? Visit the ' +\n",
              "            '<a target=\"_blank\" href=https://colab.research.google.com/notebooks/data_table.ipynb>data table notebook</a>'\n",
              "            + ' to learn more about interactive tables.';\n",
              "          element.innerHTML = '';\n",
              "          dataTable['output_type'] = 'display_data';\n",
              "          await google.colab.output.renderOutput(dataTable, element);\n",
              "          const docLink = document.createElement('div');\n",
              "          docLink.innerHTML = docLinkHtml;\n",
              "          element.appendChild(docLink);\n",
              "        }\n",
              "      </script>\n",
              "    </div>\n",
              "  </div>\n",
              "  "
            ]
          },
          "metadata": {},
          "execution_count": 86
        }
      ]
    },
    {
      "cell_type": "markdown",
      "source": [
        "2. Which teams have been relegated in the 2003 season?"
      ],
      "metadata": {
        "id": "-D1cUAjqqqnr"
      }
    },
    {
      "cell_type": "code",
      "source": [
        "relegated_df = table.filter((col('TeamPosition') == 16) |\n",
        "                            (col('TeamPosition') == 17) |\n",
        "                            (col('TeamPosition') == 18)).orderBy(asc('Season'), asc('TeamPosition'))\n",
        "relegated_df.filter(col('Season') == 2003).toPandas()"
      ],
      "metadata": {
        "colab": {
          "base_uri": "https://localhost:8080/",
          "height": 143
        },
        "id": "U4nMVuymqrlO",
        "outputId": "65fcd262-1e6b-4edd-f071-daa2c271ddf4"
      },
      "execution_count": 87,
      "outputs": [
        {
          "output_type": "execute_result",
          "data": {
            "text/plain": [
              "  Season           Team  Win  Tie  Loss  Points  GoalsScored  GoalsAgainst  \\\n",
              "0   2003  Ein Frankfurt    9    5    20      32         36.0          53.0   \n",
              "1   2003    Munich 1860    8    8    18      32         32.0          55.0   \n",
              "2   2003        FC Koln    6    5    23      23         32.0          57.0   \n",
              "\n",
              "   GoalDiff  TeamPosition  \n",
              "0     -17.0            16  \n",
              "1     -23.0            17  \n",
              "2     -25.0            18  "
            ],
            "text/html": [
              "\n",
              "  <div id=\"df-fa0f9d1b-4d3c-4615-82da-50c7d8875c6f\">\n",
              "    <div class=\"colab-df-container\">\n",
              "      <div>\n",
              "<style scoped>\n",
              "    .dataframe tbody tr th:only-of-type {\n",
              "        vertical-align: middle;\n",
              "    }\n",
              "\n",
              "    .dataframe tbody tr th {\n",
              "        vertical-align: top;\n",
              "    }\n",
              "\n",
              "    .dataframe thead th {\n",
              "        text-align: right;\n",
              "    }\n",
              "</style>\n",
              "<table border=\"1\" class=\"dataframe\">\n",
              "  <thead>\n",
              "    <tr style=\"text-align: right;\">\n",
              "      <th></th>\n",
              "      <th>Season</th>\n",
              "      <th>Team</th>\n",
              "      <th>Win</th>\n",
              "      <th>Tie</th>\n",
              "      <th>Loss</th>\n",
              "      <th>Points</th>\n",
              "      <th>GoalsScored</th>\n",
              "      <th>GoalsAgainst</th>\n",
              "      <th>GoalDiff</th>\n",
              "      <th>TeamPosition</th>\n",
              "    </tr>\n",
              "  </thead>\n",
              "  <tbody>\n",
              "    <tr>\n",
              "      <th>0</th>\n",
              "      <td>2003</td>\n",
              "      <td>Ein Frankfurt</td>\n",
              "      <td>9</td>\n",
              "      <td>5</td>\n",
              "      <td>20</td>\n",
              "      <td>32</td>\n",
              "      <td>36.0</td>\n",
              "      <td>53.0</td>\n",
              "      <td>-17.0</td>\n",
              "      <td>16</td>\n",
              "    </tr>\n",
              "    <tr>\n",
              "      <th>1</th>\n",
              "      <td>2003</td>\n",
              "      <td>Munich 1860</td>\n",
              "      <td>8</td>\n",
              "      <td>8</td>\n",
              "      <td>18</td>\n",
              "      <td>32</td>\n",
              "      <td>32.0</td>\n",
              "      <td>55.0</td>\n",
              "      <td>-23.0</td>\n",
              "      <td>17</td>\n",
              "    </tr>\n",
              "    <tr>\n",
              "      <th>2</th>\n",
              "      <td>2003</td>\n",
              "      <td>FC Koln</td>\n",
              "      <td>6</td>\n",
              "      <td>5</td>\n",
              "      <td>23</td>\n",
              "      <td>23</td>\n",
              "      <td>32.0</td>\n",
              "      <td>57.0</td>\n",
              "      <td>-25.0</td>\n",
              "      <td>18</td>\n",
              "    </tr>\n",
              "  </tbody>\n",
              "</table>\n",
              "</div>\n",
              "      <button class=\"colab-df-convert\" onclick=\"convertToInteractive('df-fa0f9d1b-4d3c-4615-82da-50c7d8875c6f')\"\n",
              "              title=\"Convert this dataframe to an interactive table.\"\n",
              "              style=\"display:none;\">\n",
              "        \n",
              "  <svg xmlns=\"http://www.w3.org/2000/svg\" height=\"24px\"viewBox=\"0 0 24 24\"\n",
              "       width=\"24px\">\n",
              "    <path d=\"M0 0h24v24H0V0z\" fill=\"none\"/>\n",
              "    <path d=\"M18.56 5.44l.94 2.06.94-2.06 2.06-.94-2.06-.94-.94-2.06-.94 2.06-2.06.94zm-11 1L8.5 8.5l.94-2.06 2.06-.94-2.06-.94L8.5 2.5l-.94 2.06-2.06.94zm10 10l.94 2.06.94-2.06 2.06-.94-2.06-.94-.94-2.06-.94 2.06-2.06.94z\"/><path d=\"M17.41 7.96l-1.37-1.37c-.4-.4-.92-.59-1.43-.59-.52 0-1.04.2-1.43.59L10.3 9.45l-7.72 7.72c-.78.78-.78 2.05 0 2.83L4 21.41c.39.39.9.59 1.41.59.51 0 1.02-.2 1.41-.59l7.78-7.78 2.81-2.81c.8-.78.8-2.07 0-2.86zM5.41 20L4 18.59l7.72-7.72 1.47 1.35L5.41 20z\"/>\n",
              "  </svg>\n",
              "      </button>\n",
              "      \n",
              "  <style>\n",
              "    .colab-df-container {\n",
              "      display:flex;\n",
              "      flex-wrap:wrap;\n",
              "      gap: 12px;\n",
              "    }\n",
              "\n",
              "    .colab-df-convert {\n",
              "      background-color: #E8F0FE;\n",
              "      border: none;\n",
              "      border-radius: 50%;\n",
              "      cursor: pointer;\n",
              "      display: none;\n",
              "      fill: #1967D2;\n",
              "      height: 32px;\n",
              "      padding: 0 0 0 0;\n",
              "      width: 32px;\n",
              "    }\n",
              "\n",
              "    .colab-df-convert:hover {\n",
              "      background-color: #E2EBFA;\n",
              "      box-shadow: 0px 1px 2px rgba(60, 64, 67, 0.3), 0px 1px 3px 1px rgba(60, 64, 67, 0.15);\n",
              "      fill: #174EA6;\n",
              "    }\n",
              "\n",
              "    [theme=dark] .colab-df-convert {\n",
              "      background-color: #3B4455;\n",
              "      fill: #D2E3FC;\n",
              "    }\n",
              "\n",
              "    [theme=dark] .colab-df-convert:hover {\n",
              "      background-color: #434B5C;\n",
              "      box-shadow: 0px 1px 3px 1px rgba(0, 0, 0, 0.15);\n",
              "      filter: drop-shadow(0px 1px 2px rgba(0, 0, 0, 0.3));\n",
              "      fill: #FFFFFF;\n",
              "    }\n",
              "  </style>\n",
              "\n",
              "      <script>\n",
              "        const buttonEl =\n",
              "          document.querySelector('#df-fa0f9d1b-4d3c-4615-82da-50c7d8875c6f button.colab-df-convert');\n",
              "        buttonEl.style.display =\n",
              "          google.colab.kernel.accessAllowed ? 'block' : 'none';\n",
              "\n",
              "        async function convertToInteractive(key) {\n",
              "          const element = document.querySelector('#df-fa0f9d1b-4d3c-4615-82da-50c7d8875c6f');\n",
              "          const dataTable =\n",
              "            await google.colab.kernel.invokeFunction('convertToInteractive',\n",
              "                                                     [key], {});\n",
              "          if (!dataTable) return;\n",
              "\n",
              "          const docLinkHtml = 'Like what you see? Visit the ' +\n",
              "            '<a target=\"_blank\" href=https://colab.research.google.com/notebooks/data_table.ipynb>data table notebook</a>'\n",
              "            + ' to learn more about interactive tables.';\n",
              "          element.innerHTML = '';\n",
              "          dataTable['output_type'] = 'display_data';\n",
              "          await google.colab.output.renderOutput(dataTable, element);\n",
              "          const docLink = document.createElement('div');\n",
              "          docLink.innerHTML = docLinkHtml;\n",
              "          element.appendChild(docLink);\n",
              "        }\n",
              "      </script>\n",
              "    </div>\n",
              "  </div>\n",
              "  "
            ]
          },
          "metadata": {},
          "execution_count": 87
        }
      ]
    },
    {
      "cell_type": "markdown",
      "source": [
        "3. Does Oktoberfest have any effect on the performance of the overall league?"
      ],
      "metadata": {
        "id": "AgINjyo2sjAU"
      }
    },
    {
      "cell_type": "code",
      "source": [
        "oktoberfest = df_matches \\\n",
        "                .filter(col('Div') == 'D1') \\\n",
        "                .filter((col('Season') >= 2000) & (col('Season') <= 2010)) \\\n",
        "                .withColumn('Month', month(col('Date'))) \\\n",
        "                .groupby('Month') \\\n",
        "                .agg(sum(col('HomeTeamGoals') + col('AwayTeamGoals')).alias('Goals'),\n",
        "                     sum('GameTie').alias('GameTie'),\n",
        "                     count(col('FinalResult')).alias('Total')) \\\n",
        "                .withColumn('Goals_to_games_ratio', round(col('Goals')/col('Total'), 1)) \\\n",
        "                .withColumn('GameTie_to_games_ratio', round(col('GameTie')/col('Total'), 1))\n",
        "\n",
        "oktoberfest.orderBy('Month').show()"
      ],
      "metadata": {
        "colab": {
          "base_uri": "https://localhost:8080/"
        },
        "id": "YT_YIk7Fslfg",
        "outputId": "1ca4028d-7719-4a50-ac40-cf7e12b5ae23"
      },
      "execution_count": 88,
      "outputs": [
        {
          "output_type": "stream",
          "name": "stdout",
          "text": [
            "+-----+------+-------+-----+--------------------+----------------------+\n",
            "|Month| Goals|GameTie|Total|Goals_to_games_ratio|GameTie_to_games_ratio|\n",
            "+-----+------+-------+-----+--------------------+----------------------+\n",
            "|    1| 386.0|     27|  140|                 2.8|                   0.2|\n",
            "|    2|1108.0|    110|  415|                 2.7|                   0.3|\n",
            "|    3|1076.0|     96|  386|                 2.8|                   0.2|\n",
            "|    4|1138.0|     90|  416|                 2.7|                   0.2|\n",
            "|    5| 993.0|     65|  308|                 3.2|                   0.2|\n",
            "|    7|  14.0|      2|    8|                 1.8|                   0.3|\n",
            "|    8| 871.0|     82|  298|                 2.9|                   0.3|\n",
            "|    9|1027.0|     91|  364|                 2.8|                   0.3|\n",
            "|   10|1036.0|     81|  354|                 2.9|                   0.2|\n",
            "|   11|1160.0|     92|  387|                 3.0|                   0.2|\n",
            "|   12| 813.0|     91|  290|                 2.8|                   0.3|\n",
            "+-----+------+-------+-----+--------------------+----------------------+\n",
            "\n"
          ]
        }
      ]
    },
    {
      "cell_type": "code",
      "source": [
        "months_names = ['January', 'February', 'March', 'April', 'May', 'June', 'July', 'August', 'September', 'October', 'November', 'December']\n",
        "months_numbers = list(range(1, 13))\n",
        "months = dict(zip(months_numbers, months_names))\n",
        "\n",
        "oktoberfest_df = oktoberfest.toPandas()\n",
        "oktoberfest_df = oktoberfest_df.sort_values('Month')\n",
        "oktoberfest_df = oktoberfest_df.replace({'Month': months})\n",
        "oktoberfest_df.set_index('Month', drop=True, inplace=True)\n",
        "oktoberfest_df['Goals_to_games_ratio'].plot.bar(rot=0, color='blue', figsize=(12, 4))\n",
        "plt.ylabel('Goals_to_games_ratio')\n",
        "plt.show()"
      ],
      "metadata": {
        "colab": {
          "base_uri": "https://localhost:8080/",
          "height": 279
        },
        "id": "NNvNl2LsvrbE",
        "outputId": "980d14a0-786b-48f7-ddda-275c573d0ccc"
      },
      "execution_count": 89,
      "outputs": [
        {
          "output_type": "display_data",
          "data": {
            "text/plain": [
              "<Figure size 864x288 with 1 Axes>"
            ],
            "image/png": "[encoded data removed]"
          },
          "metadata": {
            "needs_background": "light"
          }
        }
      ]
    },
    {
      "cell_type": "code",
      "source": [
        "oktoberfest_df['GameTie_to_games_ratio'].plot.bar(rot=0, color='red', figsize=(12, 4))\n",
        "plt.ylabel('GameTie_to_games_ratio')\n",
        "plt.show()"
      ],
      "metadata": {
        "colab": {
          "base_uri": "https://localhost:8080/",
          "height": 279
        },
        "id": "BxnrBVbtu2Nf",
        "outputId": "aad7c93c-5966-45b7-a4bc-ce6705250e57"
      },
      "execution_count": 90,
      "outputs": [
        {
          "output_type": "display_data",
          "data": {
            "text/plain": [
              "<Figure size 864x288 with 1 Axes>"
            ],
            "image/png": "[encoded data removed]"
          },
          "metadata": {
            "needs_background": "light"
          }
        }
      ]
    }
  ]
}